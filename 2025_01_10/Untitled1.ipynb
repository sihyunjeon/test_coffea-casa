{
 "cells": [
  {
   "cell_type": "code",
   "execution_count": 2,
   "id": "0472cea7-0653-4f71-a111-7394f245d059",
   "metadata": {
    "tags": []
   },
   "outputs": [
    {
     "name": "stderr",
     "output_type": "stream",
     "text": [
      "/tmp/ipykernel_35931/3618735414.py:12: FutureWarning: In version 2025.1.0 (target date: 2024-12-31 11:59:59-06:00), this will be an error.\n",
      "To raise these warnings as errors (and get stack traces to find out where they're called), run\n",
      "    import warnings\n",
      "    warnings.filterwarnings(\"error\", module=\"coffea.*\")\n",
      "after the first `import coffea` or use `@pytest.mark.filterwarnings(\"error:::coffea.*\")` in pytest.\n",
      "Issue: coffea.nanoevents.methods.vector will be removed and replaced with scikit-hep vector. Nanoevents schemas internal to coffea will be migrated. Otherwise please consider using that package!.\n",
      "  from coffea.nanoevents.methods import vector\n"
     ]
    }
   ],
   "source": [
    "import os\n",
    "import numpy as np\n",
    "import awkward as ak\n",
    "import correctionlib\n",
    "\n",
    "import dask\n",
    "import copy\n",
    "import hist.dask as hda\n",
    "import dask_awkward as dak\n",
    "\n",
    "from coffea import processor\n",
    "from coffea.nanoevents.methods import vector\n",
    "from coffea.dataset_tools import (\n",
    "    apply_to_fileset,\n",
    "    max_chunks,\n",
    "    preprocess,\n",
    ")\n",
    "\n",
    "from coffea.nanoevents import NanoEventsFactory, BaseSchema"
   ]
  },
  {
   "cell_type": "code",
   "execution_count": 3,
   "id": "f654305f-4611-4c42-8d63-b1dace2366c3",
   "metadata": {
    "tags": []
   },
   "outputs": [],
   "source": [
    "class Processor(processor.ProcessorABC):\n",
    "    def __init__(self, NTUPLE=False):\n",
    "        self.NTUPLE = NTUPLE\n",
    "        self.h_zboson_pt = (\n",
    "            hda.Hist.new\n",
    "            .Log(50, 2.5, 2500., name=\"zboson_pt\")\n",
    "            .Weight()\n",
    "        )\n",
    "        self.h_zboson_mass = (\n",
    "            hda.Hist.new\n",
    "            .Log(50, 2.5, 250., name=\"zboson_mass\")\n",
    "            .Weight()\n",
    "        )\n",
    "        '''\n",
    "        self.h2d_pho_pt_weight = (\n",
    "            hda.Hist.new\n",
    "           .Regular(50, 0., 250., name=\"pho_pt\")\n",
    "           .Regular(51, 0, 1.02, name=\"weights\")\n",
    "           .Double()\n",
    "        )\n",
    "        '''\n",
    "        pass\n",
    "\n",
    "    def getPtEtaPhiM(self, events, obj_name):\n",
    "        if \"MET\" in obj_name:\n",
    "            vars = [\"pt\", \"phi\"]\n",
    "        elif \"Photon\" in obj_name:\n",
    "            vars = [\"pt\", \"eta\", \"phi\"]\n",
    "        else:\n",
    "            vars = [\"pt\", \"eta\", \"phi\", \"mass\"]\n",
    "        return {var: events[f\"{obj_name}_{var}\"] for var in vars}\n",
    "\n",
    "    def getObjects(self, events, obj_name, adds=[]):\n",
    "        out = self.getPtEtaPhiM(events, obj_name)\n",
    "        if adds:\n",
    "            out.update({add: events[f\"{obj_name}_{add}\"] for add in adds})\n",
    "        reqs = {\"pt\", \"eta\", \"phi\", \"mass\"}\n",
    "        if not \"mass\" in out.keys():\n",
    "            out[\"mass\"] = out[\"pt\"] * 0.\n",
    "        is_4d_mom = reqs.issubset(out.keys())\n",
    "        return ak.zip(out, with_name=\"LorentzVector\", behavior=vector.behavior) if is_4d_mom else ak.zip(out, with_name=\"TwoVector\", behavior=vector.behavior)\n",
    "\n",
    "    def getGenLeptons(self, events):\n",
    "        return self.getObjects(events, \"GenDressedLepton\")\n",
    "    \n",
    "    def getGenJets(self, events):\n",
    "        return self.getObjects(events, \"GenJet\")\n",
    "    \n",
    "    def getGenerators(self, events):\n",
    "        vars = [\"id1\", \"id2\", \"scalePDF\", \"x1\", \"x2\", \"xpdf1\", \"xpdf2\"]\n",
    "        return ak.zip({var: events[f\"Generator_{var}\"] for var in vars})\n",
    "    \n",
    "    def process(self, events):\n",
    "        weights = ak.ones_like(events.genWeight)\n",
    "        gens = self.getGenerators(events)\n",
    "\n",
    "        leptons = self.getGenLeptons(events)\n",
    "        MASK_leptons = (ak.num(leptons, axis=1) > 1)\n",
    "        \n",
    "        weights = weights[MASK_leptons]\n",
    "        leptons = leptons[MASK_leptons]\n",
    "        gens = gens[MASK_leptons]\n",
    "        \n",
    "        zboson = leptons[:,0] + leptons[:,1]\n",
    "\n",
    "\n",
    "        self.h_zboson_pt.fill(zboson_pt=zboson.pt, weight=weights)\n",
    "        \n",
    "        return {\n",
    "            \"h_zboson_pt\" : self.h_zboson_pt,\n",
    "        }\n",
    "    def postprocess(self, accumulator):\n",
    "        pass"
   ]
  },
  {
   "cell_type": "code",
   "execution_count": 6,
   "id": "efa8be94-7c40-4c48-beb8-883a92ef7742",
   "metadata": {
    "tags": []
   },
   "outputs": [],
   "source": [
    "datasets = []\n",
    "datasets.append({\"dy\" : {f\"root://xcache/{sample.strip()}\" : \"Events\" for sample in open(\"samples.txt\").readlines()}})"
   ]
  },
  {
   "cell_type": "code",
   "execution_count": 7,
   "id": "603d4362-5fbe-4e87-b7f9-949de26faf6a",
   "metadata": {
    "tags": []
   },
   "outputs": [
    {
     "ename": "OSError",
     "evalue": "File did not vector_read properly: [ERROR] Server responded with an error: [3005] Unable to readv /store/mc/Run3Summer22EENanoAODv12/DYto2L-4Jets_MLL-50_TuneCP5_13p6TeV_madgraphMLM-pythia8/NANOAODSIM/130X_mcRun3_2022_realistic_postEE_v6_ext1-v2/2520000/0b377ebc-89c0-487f-995a-a344255c11e3.root; too many levels of symbolic links\n",
     "output_type": "error",
     "traceback": [
      "\u001b[0;31m---------------------------------------------------------------------------\u001b[0m",
      "\u001b[0;31mOSError\u001b[0m                                   Traceback (most recent call last)",
      "Cell \u001b[0;32mIn[7], line 16\u001b[0m\n\u001b[1;32m      3\u001b[0m dataset_runnable, dataset_updated \u001b[38;5;241m=\u001b[39m preprocess(\n\u001b[1;32m      4\u001b[0m     dataset,\n\u001b[1;32m      5\u001b[0m     align_clusters\u001b[38;5;241m=\u001b[39m\u001b[38;5;28;01mFalse\u001b[39;00m,\n\u001b[0;32m   (...)\u001b[0m\n\u001b[1;32m      9\u001b[0m     save_form\u001b[38;5;241m=\u001b[39m\u001b[38;5;28;01mFalse\u001b[39;00m,\n\u001b[1;32m     10\u001b[0m )\n\u001b[1;32m     11\u001b[0m to_compute \u001b[38;5;241m=\u001b[39m apply_to_fileset(\n\u001b[1;32m     12\u001b[0m     Processor(\u001b[38;5;28;01mTrue\u001b[39;00m),\n\u001b[1;32m     13\u001b[0m     max_chunks(dataset_runnable, \u001b[38;5;241m10\u001b[39m),\n\u001b[1;32m     14\u001b[0m     schemaclass\u001b[38;5;241m=\u001b[39mBaseSchema,\n\u001b[1;32m     15\u001b[0m )\n\u001b[0;32m---> 16\u001b[0m (out,) \u001b[38;5;241m=\u001b[39m \u001b[43mdask\u001b[49m\u001b[38;5;241;43m.\u001b[39;49m\u001b[43mcompute\u001b[49m\u001b[43m(\u001b[49m\u001b[43mto_compute\u001b[49m\u001b[43m)\u001b[49m\n\u001b[1;32m     17\u001b[0m outs\u001b[38;5;241m.\u001b[39mappend(out)\n",
      "File \u001b[0;32m/usr/local/lib/python3.10/site-packages/dask/base.py:662\u001b[0m, in \u001b[0;36mcompute\u001b[0;34m(traverse, optimize_graph, scheduler, get, *args, **kwargs)\u001b[0m\n\u001b[1;32m    659\u001b[0m     postcomputes\u001b[38;5;241m.\u001b[39mappend(x\u001b[38;5;241m.\u001b[39m__dask_postcompute__())\n\u001b[1;32m    661\u001b[0m \u001b[38;5;28;01mwith\u001b[39;00m shorten_traceback():\n\u001b[0;32m--> 662\u001b[0m     results \u001b[38;5;241m=\u001b[39m \u001b[43mschedule\u001b[49m\u001b[43m(\u001b[49m\u001b[43mdsk\u001b[49m\u001b[43m,\u001b[49m\u001b[43m \u001b[49m\u001b[43mkeys\u001b[49m\u001b[43m,\u001b[49m\u001b[43m \u001b[49m\u001b[38;5;241;43m*\u001b[39;49m\u001b[38;5;241;43m*\u001b[39;49m\u001b[43mkwargs\u001b[49m\u001b[43m)\u001b[49m\n\u001b[1;32m    664\u001b[0m \u001b[38;5;28;01mreturn\u001b[39;00m repack([f(r, \u001b[38;5;241m*\u001b[39ma) \u001b[38;5;28;01mfor\u001b[39;00m r, (f, a) \u001b[38;5;129;01min\u001b[39;00m \u001b[38;5;28mzip\u001b[39m(results, postcomputes)])\n",
      "File \u001b[0;32m/usr/local/lib/python3.10/site-packages/uproot/_dask.py:1345\u001b[0m, in \u001b[0;36m__call__\u001b[0;34m()\u001b[0m\n\u001b[1;32m   1331\u001b[0m     \u001b[38;5;28;01mexcept\u001b[39;00m \u001b[38;5;28mself\u001b[39m\u001b[38;5;241m.\u001b[39mallowed_exceptions \u001b[38;5;28;01mas\u001b[39;00m err:\n\u001b[1;32m   1332\u001b[0m         \u001b[38;5;28;01mreturn\u001b[39;00m (\n\u001b[1;32m   1333\u001b[0m             \u001b[38;5;28mself\u001b[39m\u001b[38;5;241m.\u001b[39mmock_empty(backend\u001b[38;5;241m=\u001b[39m\u001b[38;5;124m\"\u001b[39m\u001b[38;5;124mcpu\u001b[39m\u001b[38;5;124m\"\u001b[39m),\n\u001b[1;32m   1334\u001b[0m             _report_failure(\n\u001b[0;32m   (...)\u001b[0m\n\u001b[1;32m   1342\u001b[0m             ),\n\u001b[1;32m   1343\u001b[0m         )\n\u001b[0;32m-> 1345\u001b[0m result, _ \u001b[38;5;241m=\u001b[39m \u001b[38;5;28mself\u001b[39m\u001b[38;5;241m.\u001b[39m_call_impl(\n\u001b[1;32m   1346\u001b[0m     file_path, object_path, i_step_or_start, n_steps_or_stop, is_chunk\n\u001b[1;32m   1347\u001b[0m )\n\u001b[1;32m   1348\u001b[0m \u001b[38;5;28;01mreturn\u001b[39;00m result\n",
      "File \u001b[0;32m/usr/local/lib/python3.10/site-packages/uproot/_dask.py:1298\u001b[0m, in \u001b[0;36m_call_impl\u001b[0;34m()\u001b[0m\n\u001b[1;32m   1292\u001b[0m     start, stop \u001b[38;5;241m=\u001b[39m \u001b[38;5;28mmin\u001b[39m((i_step_or_start \u001b[38;5;241m*\u001b[39m events_per_step), num_entries), \u001b[38;5;28mmin\u001b[39m(\n\u001b[1;32m   1293\u001b[0m         (i_step_or_start \u001b[38;5;241m+\u001b[39m \u001b[38;5;241m1\u001b[39m) \u001b[38;5;241m*\u001b[39m events_per_step, num_entries\n\u001b[1;32m   1294\u001b[0m     )\n\u001b[1;32m   1296\u001b[0m \u001b[38;5;28;01massert\u001b[39;00m start \u001b[38;5;241m<\u001b[39m\u001b[38;5;241m=\u001b[39m stop\n\u001b[0;32m-> 1298\u001b[0m \u001b[38;5;28;01mreturn\u001b[39;00m \u001b[38;5;28mself\u001b[39m\u001b[38;5;241m.\u001b[39mread_tree(\n\u001b[1;32m   1299\u001b[0m     ttree,\n\u001b[1;32m   1300\u001b[0m     start,\n\u001b[1;32m   1301\u001b[0m     stop,\n\u001b[1;32m   1302\u001b[0m )\n",
      "File \u001b[0;32m/usr/local/lib/python3.10/site-packages/uproot/_dask.py:985\u001b[0m, in \u001b[0;36mread_tree\u001b[0;34m()\u001b[0m\n\u001b[1;32m    980\u001b[0m nplike \u001b[38;5;241m=\u001b[39m Numpy\u001b[38;5;241m.\u001b[39minstance()\n\u001b[1;32m    982\u001b[0m \u001b[38;5;66;03m# The remap implementation should correctly populate the generated\u001b[39;00m\n\u001b[1;32m    983\u001b[0m \u001b[38;5;66;03m# buffer mapping in __call__, such that the high-level form can be\u001b[39;00m\n\u001b[1;32m    984\u001b[0m \u001b[38;5;66;03m# used in `from_buffers`\u001b[39;00m\n\u001b[0;32m--> 985\u001b[0m mapping \u001b[38;5;241m=\u001b[39m \u001b[38;5;28mself\u001b[39m\u001b[38;5;241m.\u001b[39mform_mapping_info\u001b[38;5;241m.\u001b[39mload_buffers(\n\u001b[1;32m    986\u001b[0m     tree,\n\u001b[1;32m    987\u001b[0m     \u001b[38;5;28mself\u001b[39m\u001b[38;5;241m.\u001b[39mcommon_keys,\n\u001b[1;32m    988\u001b[0m     start,\n\u001b[1;32m    989\u001b[0m     stop,\n\u001b[1;32m    990\u001b[0m     \u001b[38;5;28mself\u001b[39m\u001b[38;5;241m.\u001b[39mdecompression_executor,\n\u001b[1;32m    991\u001b[0m     \u001b[38;5;28mself\u001b[39m\u001b[38;5;241m.\u001b[39minterpretation_executor,\n\u001b[1;32m    992\u001b[0m     \u001b[38;5;28mself\u001b[39m\u001b[38;5;241m.\u001b[39minterp_options,\n\u001b[1;32m    993\u001b[0m )\n\u001b[1;32m    995\u001b[0m \u001b[38;5;66;03m# Populate container with placeholders if keys aren't required\u001b[39;00m\n\u001b[1;32m    996\u001b[0m \u001b[38;5;66;03m# Otherwise, read from disk\u001b[39;00m\n\u001b[1;32m    997\u001b[0m container \u001b[38;5;241m=\u001b[39m {}\n",
      "File \u001b[0;32m/usr/local/lib/python3.10/site-packages/coffea/nanoevents/factory.py:157\u001b[0m, in \u001b[0;36mload_buffers\u001b[0;34m()\u001b[0m\n\u001b[1;32m    151\u001b[0m partition_key \u001b[38;5;241m=\u001b[39m (\n\u001b[1;32m    152\u001b[0m     \u001b[38;5;28mstr\u001b[39m(tree\u001b[38;5;241m.\u001b[39mfile\u001b[38;5;241m.\u001b[39muuid),\n\u001b[1;32m    153\u001b[0m     tree\u001b[38;5;241m.\u001b[39mobject_path,\n\u001b[1;32m    154\u001b[0m     \u001b[38;5;124mf\u001b[39m\u001b[38;5;124m\"\u001b[39m\u001b[38;5;132;01m{\u001b[39;00mstart\u001b[38;5;132;01m}\u001b[39;00m\u001b[38;5;124m-\u001b[39m\u001b[38;5;132;01m{\u001b[39;00mstop\u001b[38;5;132;01m}\u001b[39;00m\u001b[38;5;124m\"\u001b[39m,\n\u001b[1;32m    155\u001b[0m )\n\u001b[1;32m    156\u001b[0m uuidpfn \u001b[38;5;241m=\u001b[39m {partition_key[\u001b[38;5;241m0\u001b[39m]: tree\u001b[38;5;241m.\u001b[39mfile\u001b[38;5;241m.\u001b[39mfile_path}\n\u001b[0;32m--> 157\u001b[0m arrays \u001b[38;5;241m=\u001b[39m tree\u001b[38;5;241m.\u001b[39marrays(\n\u001b[1;32m    158\u001b[0m     keys,\n\u001b[1;32m    159\u001b[0m     entry_start\u001b[38;5;241m=\u001b[39mstart,\n\u001b[1;32m    160\u001b[0m     entry_stop\u001b[38;5;241m=\u001b[39mstop,\n\u001b[1;32m    161\u001b[0m     ak_add_doc\u001b[38;5;241m=\u001b[39minterp_options[\u001b[38;5;124m\"\u001b[39m\u001b[38;5;124mak_add_doc\u001b[39m\u001b[38;5;124m\"\u001b[39m],\n\u001b[1;32m    162\u001b[0m     decompression_executor\u001b[38;5;241m=\u001b[39mdecompression_executor,\n\u001b[1;32m    163\u001b[0m     interpretation_executor\u001b[38;5;241m=\u001b[39minterpretation_executor,\n\u001b[1;32m    164\u001b[0m     how\u001b[38;5;241m=\u001b[39m\u001b[38;5;28mdict\u001b[39m,\n\u001b[1;32m    165\u001b[0m )\n\u001b[1;32m    166\u001b[0m source_arrays \u001b[38;5;241m=\u001b[39m {\n\u001b[1;32m    167\u001b[0m     k: _OnlySliceableAs(v, \u001b[38;5;28mslice\u001b[39m(start, stop)) \u001b[38;5;28;01mfor\u001b[39;00m k, v \u001b[38;5;129;01min\u001b[39;00m arrays\u001b[38;5;241m.\u001b[39mitems()\n\u001b[1;32m    168\u001b[0m }\n\u001b[1;32m    169\u001b[0m mapping \u001b[38;5;241m=\u001b[39m PreloadedSourceMapping(\n\u001b[1;32m    170\u001b[0m     PreloadedOpener(uuidpfn), start, stop, access_log\u001b[38;5;241m=\u001b[39m\u001b[38;5;28;01mNone\u001b[39;00m\n\u001b[1;32m    171\u001b[0m )\n",
      "File \u001b[0;32m/usr/local/lib/python3.10/site-packages/uproot/behaviors/TBranch.py:823\u001b[0m, in \u001b[0;36marrays\u001b[0;34m()\u001b[0m\n\u001b[1;32m    820\u001b[0m                 ranges_or_baskets\u001b[38;5;241m.\u001b[39mappend((branch, basket_num, range_or_basket))\n\u001b[1;32m    822\u001b[0m interp_options \u001b[38;5;241m=\u001b[39m {\u001b[38;5;124m\"\u001b[39m\u001b[38;5;124mak_add_doc\u001b[39m\u001b[38;5;124m\"\u001b[39m: ak_add_doc}\n\u001b[0;32m--> 823\u001b[0m _ranges_or_baskets_to_arrays(\n\u001b[1;32m    824\u001b[0m     \u001b[38;5;28mself\u001b[39m,\n\u001b[1;32m    825\u001b[0m     ranges_or_baskets,\n\u001b[1;32m    826\u001b[0m     branchid_interpretation,\n\u001b[1;32m    827\u001b[0m     entry_start,\n\u001b[1;32m    828\u001b[0m     entry_stop,\n\u001b[1;32m    829\u001b[0m     decompression_executor,\n\u001b[1;32m    830\u001b[0m     interpretation_executor,\n\u001b[1;32m    831\u001b[0m     library,\n\u001b[1;32m    832\u001b[0m     arrays,\n\u001b[1;32m    833\u001b[0m     \u001b[38;5;28;01mFalse\u001b[39;00m,\n\u001b[1;32m    834\u001b[0m     interp_options,\n\u001b[1;32m    835\u001b[0m )\n\u001b[1;32m    837\u001b[0m \u001b[38;5;66;03m# no longer needed; save memory\u001b[39;00m\n\u001b[1;32m    838\u001b[0m \u001b[38;5;28;01mdel\u001b[39;00m ranges_or_baskets\n",
      "File \u001b[0;32m/usr/local/lib/python3.10/site-packages/uproot/behaviors/TBranch.py:3105\u001b[0m, in \u001b[0;36m_ranges_or_baskets_to_arrays\u001b[0;34m()\u001b[0m\n\u001b[1;32m   3102\u001b[0m     \u001b[38;5;28;01mpass\u001b[39;00m\n\u001b[1;32m   3104\u001b[0m \u001b[38;5;28;01melif\u001b[39;00m \u001b[38;5;28misinstance\u001b[39m(obj, \u001b[38;5;28mtuple\u001b[39m) \u001b[38;5;129;01mand\u001b[39;00m \u001b[38;5;28mlen\u001b[39m(obj) \u001b[38;5;241m==\u001b[39m \u001b[38;5;241m3\u001b[39m:\n\u001b[0;32m-> 3105\u001b[0m     uproot\u001b[38;5;241m.\u001b[39msource\u001b[38;5;241m.\u001b[39mfutures\u001b[38;5;241m.\u001b[39mdelayed_raise(\u001b[38;5;241m*\u001b[39mobj)\n\u001b[1;32m   3107\u001b[0m \u001b[38;5;28;01melse\u001b[39;00m:\n\u001b[1;32m   3108\u001b[0m     \u001b[38;5;28;01mraise\u001b[39;00m \u001b[38;5;167;01mAssertionError\u001b[39;00m(obj)\n",
      "File \u001b[0;32m/usr/local/lib/python3.10/site-packages/uproot/source/futures.py:38\u001b[0m, in \u001b[0;36mdelayed_raise\u001b[0;34m()\u001b[0m\n\u001b[1;32m     34\u001b[0m \u001b[38;5;28;01mdef\u001b[39;00m \u001b[38;5;21mdelayed_raise\u001b[39m(exception_class, exception_value, traceback):\n\u001b[1;32m     35\u001b[0m \u001b[38;5;250m    \u001b[39m\u001b[38;5;124;03m\"\"\"\u001b[39;00m\n\u001b[1;32m     36\u001b[0m \u001b[38;5;124;03m    Raise an exception from a background thread on the main thread.\u001b[39;00m\n\u001b[1;32m     37\u001b[0m \u001b[38;5;124;03m    \"\"\"\u001b[39;00m\n\u001b[0;32m---> 38\u001b[0m     \u001b[38;5;28;01mraise\u001b[39;00m exception_value\u001b[38;5;241m.\u001b[39mwith_traceback(traceback)\n",
      "File \u001b[0;32m/usr/local/lib/python3.10/site-packages/uproot/behaviors/TBranch.py:3026\u001b[0m, in \u001b[0;36mchunk_to_basket\u001b[0;34m()\u001b[0m\n\u001b[1;32m   3024\u001b[0m \u001b[38;5;28;01mtry\u001b[39;00m:\n\u001b[1;32m   3025\u001b[0m     cursor \u001b[38;5;241m=\u001b[39m uproot\u001b[38;5;241m.\u001b[39msource\u001b[38;5;241m.\u001b[39mcursor\u001b[38;5;241m.\u001b[39mCursor(chunk\u001b[38;5;241m.\u001b[39mstart)\n\u001b[0;32m-> 3026\u001b[0m     basket \u001b[38;5;241m=\u001b[39m uproot\u001b[38;5;241m.\u001b[39mmodels\u001b[38;5;241m.\u001b[39mTBasket\u001b[38;5;241m.\u001b[39mModel_TBasket\u001b[38;5;241m.\u001b[39mread(\n\u001b[1;32m   3027\u001b[0m         chunk,\n\u001b[1;32m   3028\u001b[0m         cursor,\n\u001b[1;32m   3029\u001b[0m         {\u001b[38;5;124m\"\u001b[39m\u001b[38;5;124mbasket_num\u001b[39m\u001b[38;5;124m\"\u001b[39m: basket_num},\n\u001b[1;32m   3030\u001b[0m         hasbranches\u001b[38;5;241m.\u001b[39m_file,\n\u001b[1;32m   3031\u001b[0m         hasbranches\u001b[38;5;241m.\u001b[39m_file,\n\u001b[1;32m   3032\u001b[0m         branch,\n\u001b[1;32m   3033\u001b[0m     )\n\u001b[1;32m   3034\u001b[0m     original_index \u001b[38;5;241m=\u001b[39m range_original_index[(chunk\u001b[38;5;241m.\u001b[39mstart, chunk\u001b[38;5;241m.\u001b[39mstop)]\n\u001b[1;32m   3035\u001b[0m     \u001b[38;5;28;01mif\u001b[39;00m update_ranges_or_baskets:\n",
      "File \u001b[0;32m/usr/local/lib/python3.10/site-packages/uproot/model.py:854\u001b[0m, in \u001b[0;36mread\u001b[0;34m()\u001b[0m\n\u001b[1;32m    852\u001b[0m     forth_obj\u001b[38;5;241m.\u001b[39madd_node(forth_stash)\n\u001b[1;32m    853\u001b[0m     forth_obj\u001b[38;5;241m.\u001b[39mpush_active_node(forth_stash)\n\u001b[0;32m--> 854\u001b[0m \u001b[38;5;28mself\u001b[39m\u001b[38;5;241m.\u001b[39mread_members(chunk, cursor, context, file)\n\u001b[1;32m    855\u001b[0m \u001b[38;5;28;01mif\u001b[39;00m forth_obj \u001b[38;5;129;01mis\u001b[39;00m \u001b[38;5;129;01mnot\u001b[39;00m \u001b[38;5;28;01mNone\u001b[39;00m:\n\u001b[1;32m    856\u001b[0m     forth_obj\u001b[38;5;241m.\u001b[39mpop_active_node()\n",
      "File \u001b[0;32m/usr/local/lib/python3.10/site-packages/uproot/models/TBasket.py:227\u001b[0m, in \u001b[0;36mread_members\u001b[0;34m()\u001b[0m\n\u001b[1;32m    217\u001b[0m \u001b[38;5;28;01massert\u001b[39;00m \u001b[38;5;28misinstance\u001b[39m(\u001b[38;5;28mself\u001b[39m\u001b[38;5;241m.\u001b[39m_parent, uproot\u001b[38;5;241m.\u001b[39mbehaviors\u001b[38;5;241m.\u001b[39mTBranch\u001b[38;5;241m.\u001b[39mTBranch)\n\u001b[1;32m    218\u001b[0m \u001b[38;5;28mself\u001b[39m\u001b[38;5;241m.\u001b[39m_basket_num \u001b[38;5;241m=\u001b[39m context\u001b[38;5;241m.\u001b[39mget(\u001b[38;5;124m\"\u001b[39m\u001b[38;5;124mbasket_num\u001b[39m\u001b[38;5;124m\"\u001b[39m)\n\u001b[1;32m    220\u001b[0m (\n\u001b[1;32m    221\u001b[0m     \u001b[38;5;28mself\u001b[39m\u001b[38;5;241m.\u001b[39m_members[\u001b[38;5;124m\"\u001b[39m\u001b[38;5;124mfNbytes\u001b[39m\u001b[38;5;124m\"\u001b[39m],\n\u001b[1;32m    222\u001b[0m     \u001b[38;5;28mself\u001b[39m\u001b[38;5;241m.\u001b[39m_key_version,\n\u001b[1;32m    223\u001b[0m     \u001b[38;5;28mself\u001b[39m\u001b[38;5;241m.\u001b[39m_members[\u001b[38;5;124m\"\u001b[39m\u001b[38;5;124mfObjlen\u001b[39m\u001b[38;5;124m\"\u001b[39m],\n\u001b[1;32m    224\u001b[0m     \u001b[38;5;28mself\u001b[39m\u001b[38;5;241m.\u001b[39m_members[\u001b[38;5;124m\"\u001b[39m\u001b[38;5;124mfDatime\u001b[39m\u001b[38;5;124m\"\u001b[39m],\n\u001b[1;32m    225\u001b[0m     \u001b[38;5;28mself\u001b[39m\u001b[38;5;241m.\u001b[39m_members[\u001b[38;5;124m\"\u001b[39m\u001b[38;5;124mfKeylen\u001b[39m\u001b[38;5;124m\"\u001b[39m],\n\u001b[1;32m    226\u001b[0m     \u001b[38;5;28mself\u001b[39m\u001b[38;5;241m.\u001b[39m_members[\u001b[38;5;124m\"\u001b[39m\u001b[38;5;124mfCycle\u001b[39m\u001b[38;5;124m\"\u001b[39m],\n\u001b[0;32m--> 227\u001b[0m ) \u001b[38;5;241m=\u001b[39m cursor\u001b[38;5;241m.\u001b[39mfields(chunk, _tbasket_format1, context)\n\u001b[1;32m    229\u001b[0m \u001b[38;5;66;03m# skip the class name, name, and title\u001b[39;00m\n\u001b[1;32m    230\u001b[0m cursor\u001b[38;5;241m.\u001b[39mmove_to(\n\u001b[1;32m    231\u001b[0m     \u001b[38;5;28mself\u001b[39m\u001b[38;5;241m.\u001b[39m_cursor\u001b[38;5;241m.\u001b[39mindex \u001b[38;5;241m+\u001b[39m \u001b[38;5;28mself\u001b[39m\u001b[38;5;241m.\u001b[39m_members[\u001b[38;5;124m\"\u001b[39m\u001b[38;5;124mfKeylen\u001b[39m\u001b[38;5;124m\"\u001b[39m] \u001b[38;5;241m-\u001b[39m _tbasket_format2\u001b[38;5;241m.\u001b[39msize \u001b[38;5;241m-\u001b[39m \u001b[38;5;241m1\u001b[39m\n\u001b[1;32m    232\u001b[0m )\n",
      "File \u001b[0;32m/usr/local/lib/python3.10/site-packages/uproot/source/cursor.py:201\u001b[0m, in \u001b[0;36mfields\u001b[0;34m()\u001b[0m\n\u001b[1;32m    199\u001b[0m \u001b[38;5;28;01mif\u001b[39;00m move:\n\u001b[1;32m    200\u001b[0m     \u001b[38;5;28mself\u001b[39m\u001b[38;5;241m.\u001b[39m_index \u001b[38;5;241m=\u001b[39m stop\n\u001b[0;32m--> 201\u001b[0m \u001b[38;5;28;01mreturn\u001b[39;00m \u001b[38;5;28mformat\u001b[39m\u001b[38;5;241m.\u001b[39munpack(chunk\u001b[38;5;241m.\u001b[39mget(start, stop, \u001b[38;5;28mself\u001b[39m, context))\n",
      "File \u001b[0;32m/usr/local/lib/python3.10/site-packages/uproot/source/chunk.py:446\u001b[0m, in \u001b[0;36mget\u001b[0;34m()\u001b[0m\n\u001b[1;32m    424\u001b[0m \u001b[38;5;250m\u001b[39m\u001b[38;5;124;03m\"\"\"\u001b[39;00m\n\u001b[1;32m    425\u001b[0m \u001b[38;5;124;03mArgs:\u001b[39;00m\n\u001b[1;32m    426\u001b[0m \u001b[38;5;124;03m    start (int): Seek position of the first byte to include.\u001b[39;00m\n\u001b[0;32m   (...)\u001b[0m\n\u001b[1;32m    443\u001b[0m \u001b[38;5;124;03malready.\u001b[39;00m\n\u001b[1;32m    444\u001b[0m \u001b[38;5;124;03m\"\"\"\u001b[39;00m\n\u001b[1;32m    445\u001b[0m \u001b[38;5;28;01mif\u001b[39;00m (start, stop) \u001b[38;5;129;01min\u001b[39;00m \u001b[38;5;28mself\u001b[39m:\n\u001b[0;32m--> 446\u001b[0m     \u001b[38;5;28mself\u001b[39m\u001b[38;5;241m.\u001b[39mwait(insist\u001b[38;5;241m=\u001b[39mstop)\n\u001b[1;32m    447\u001b[0m     local_start \u001b[38;5;241m=\u001b[39m start \u001b[38;5;241m-\u001b[39m \u001b[38;5;28mself\u001b[39m\u001b[38;5;241m.\u001b[39m_start\n\u001b[1;32m    448\u001b[0m     local_stop \u001b[38;5;241m=\u001b[39m stop \u001b[38;5;241m-\u001b[39m \u001b[38;5;28mself\u001b[39m\u001b[38;5;241m.\u001b[39m_start\n",
      "File \u001b[0;32m/usr/local/lib/python3.10/site-packages/uproot/source/chunk.py:388\u001b[0m, in \u001b[0;36mwait\u001b[0;34m()\u001b[0m\n\u001b[1;32m    377\u001b[0m \u001b[38;5;250m\u001b[39m\u001b[38;5;124;03m\"\"\"\u001b[39;00m\n\u001b[1;32m    378\u001b[0m \u001b[38;5;124;03mArgs:\u001b[39;00m\n\u001b[1;32m    379\u001b[0m \u001b[38;5;124;03m    insist (bool or int): If True, raise an OSError if ``raw_data`` does\u001b[39;00m\n\u001b[0;32m   (...)\u001b[0m\n\u001b[1;32m    385\u001b[0m \u001b[38;5;124;03m:ref:`uproot.source.chunk.Chunk.future` completes).\u001b[39;00m\n\u001b[1;32m    386\u001b[0m \u001b[38;5;124;03m\"\"\"\u001b[39;00m\n\u001b[1;32m    387\u001b[0m \u001b[38;5;28;01mif\u001b[39;00m \u001b[38;5;28mself\u001b[39m\u001b[38;5;241m.\u001b[39m_raw_data \u001b[38;5;129;01mis\u001b[39;00m \u001b[38;5;28;01mNone\u001b[39;00m:\n\u001b[0;32m--> 388\u001b[0m     \u001b[38;5;28mself\u001b[39m\u001b[38;5;241m.\u001b[39m_raw_data \u001b[38;5;241m=\u001b[39m numpy\u001b[38;5;241m.\u001b[39mfrombuffer(\u001b[38;5;28mself\u001b[39m\u001b[38;5;241m.\u001b[39m_future\u001b[38;5;241m.\u001b[39mresult(), dtype\u001b[38;5;241m=\u001b[39m\u001b[38;5;28mself\u001b[39m\u001b[38;5;241m.\u001b[39m_dtype)\n\u001b[1;32m    389\u001b[0m     \u001b[38;5;28;01mif\u001b[39;00m insist \u001b[38;5;129;01mis\u001b[39;00m \u001b[38;5;28;01mTrue\u001b[39;00m:\n\u001b[1;32m    390\u001b[0m         requirement \u001b[38;5;241m=\u001b[39m \u001b[38;5;28mlen\u001b[39m(\u001b[38;5;28mself\u001b[39m\u001b[38;5;241m.\u001b[39m_raw_data) \u001b[38;5;241m==\u001b[39m \u001b[38;5;28mself\u001b[39m\u001b[38;5;241m.\u001b[39m_stop \u001b[38;5;241m-\u001b[39m \u001b[38;5;28mself\u001b[39m\u001b[38;5;241m.\u001b[39m_start\n",
      "File \u001b[0;32m/usr/local/lib/python3.10/site-packages/uproot/source/coalesce.py:36\u001b[0m, in \u001b[0;36mresult\u001b[0;34m()\u001b[0m\n\u001b[1;32m     35\u001b[0m \u001b[38;5;28;01mdef\u001b[39;00m \u001b[38;5;21mresult\u001b[39m(\u001b[38;5;28mself\u001b[39m, timeout\u001b[38;5;241m=\u001b[39m\u001b[38;5;28;01mNone\u001b[39;00m):\n\u001b[0;32m---> 36\u001b[0m     \u001b[38;5;28;01mreturn\u001b[39;00m \u001b[38;5;28mself\u001b[39m\u001b[38;5;241m.\u001b[39m_parent\u001b[38;5;241m.\u001b[39mresult(timeout\u001b[38;5;241m=\u001b[39mtimeout)[\u001b[38;5;28mself\u001b[39m\u001b[38;5;241m.\u001b[39m_s]\n",
      "File \u001b[0;32m/usr/local/lib/python3.10/site-packages/uproot/source/coalesce.py:36\u001b[0m, in \u001b[0;36mresult\u001b[0;34m()\u001b[0m\n\u001b[1;32m     35\u001b[0m \u001b[38;5;28;01mdef\u001b[39;00m \u001b[38;5;21mresult\u001b[39m(\u001b[38;5;28mself\u001b[39m, timeout\u001b[38;5;241m=\u001b[39m\u001b[38;5;28;01mNone\u001b[39;00m):\n\u001b[0;32m---> 36\u001b[0m     \u001b[38;5;28;01mreturn\u001b[39;00m \u001b[38;5;28mself\u001b[39m\u001b[38;5;241m.\u001b[39m_parent\u001b[38;5;241m.\u001b[39mresult(timeout\u001b[38;5;241m=\u001b[39mtimeout)[\u001b[38;5;28mself\u001b[39m\u001b[38;5;241m.\u001b[39m_s]\n",
      "File \u001b[0;32m/usr/local/lib/python3.10/site-packages/fsspec_xrootd/xrootd.py:641\u001b[0m, in \u001b[0;36m_cat_ranges\u001b[0;34m()\u001b[0m\n\u001b[1;32m    634\u001b[0m batch_size \u001b[38;5;241m=\u001b[39m batch_size \u001b[38;5;129;01mor\u001b[39;00m \u001b[38;5;28mself\u001b[39m\u001b[38;5;241m.\u001b[39mbatch_size\n\u001b[1;32m    636\u001b[0m coros \u001b[38;5;241m=\u001b[39m [\n\u001b[1;32m    637\u001b[0m     \u001b[38;5;28mself\u001b[39m\u001b[38;5;241m.\u001b[39m_cat_vector_read(key, uniquePaths[key], batch_size)\n\u001b[1;32m    638\u001b[0m     \u001b[38;5;28;01mfor\u001b[39;00m key \u001b[38;5;129;01min\u001b[39;00m uniquePaths\u001b[38;5;241m.\u001b[39mkeys()\n\u001b[1;32m    639\u001b[0m ]\n\u001b[0;32m--> 641\u001b[0m results \u001b[38;5;241m=\u001b[39m \u001b[38;5;28;01mawait\u001b[39;00m _run_coros_in_chunks(coros, batch_size\u001b[38;5;241m=\u001b[39mbatch_size, nofiles\u001b[38;5;241m=\u001b[39m\u001b[38;5;28;01mTrue\u001b[39;00m)\n\u001b[1;32m    643\u001b[0m resDict \u001b[38;5;241m=\u001b[39m \u001b[38;5;28mdict\u001b[39m(results)\n\u001b[1;32m    645\u001b[0m deets \u001b[38;5;241m=\u001b[39m [resDict[path]\u001b[38;5;241m.\u001b[39mpop(\u001b[38;5;241m0\u001b[39m) \u001b[38;5;28;01mfor\u001b[39;00m path \u001b[38;5;129;01min\u001b[39;00m paths]\n",
      "File \u001b[0;32m/usr/local/lib/python3.10/site-packages/fsspec/asyn.py:268\u001b[0m, in \u001b[0;36m_run_coros_in_chunks\u001b[0;34m()\u001b[0m\n\u001b[1;32m    266\u001b[0m     done, pending \u001b[38;5;241m=\u001b[39m \u001b[38;5;28;01mawait\u001b[39;00m asyncio\u001b[38;5;241m.\u001b[39mwait(pending, return_when\u001b[38;5;241m=\u001b[39masyncio\u001b[38;5;241m.\u001b[39mFIRST_COMPLETED)\n\u001b[1;32m    267\u001b[0m     \u001b[38;5;28;01mwhile\u001b[39;00m done:\n\u001b[0;32m--> 268\u001b[0m         result, k \u001b[38;5;241m=\u001b[39m \u001b[38;5;28;01mawait\u001b[39;00m done\u001b[38;5;241m.\u001b[39mpop()\n\u001b[1;32m    269\u001b[0m         results[k] \u001b[38;5;241m=\u001b[39m result\n\u001b[1;32m    271\u001b[0m \u001b[38;5;28;01mreturn\u001b[39;00m results\n",
      "File \u001b[0;32m/usr/local/lib/python3.10/site-packages/fsspec/asyn.py:245\u001b[0m, in \u001b[0;36m_run_coro\u001b[0;34m()\u001b[0m\n\u001b[1;32m    243\u001b[0m \u001b[38;5;28;01masync\u001b[39;00m \u001b[38;5;28;01mdef\u001b[39;00m \u001b[38;5;21m_run_coro\u001b[39m(coro, i):\n\u001b[1;32m    244\u001b[0m     \u001b[38;5;28;01mtry\u001b[39;00m:\n\u001b[0;32m--> 245\u001b[0m         \u001b[38;5;28;01mreturn\u001b[39;00m \u001b[38;5;28;01mawait\u001b[39;00m asyncio\u001b[38;5;241m.\u001b[39mwait_for(coro, timeout\u001b[38;5;241m=\u001b[39mtimeout), i\n\u001b[1;32m    246\u001b[0m     \u001b[38;5;28;01mexcept\u001b[39;00m \u001b[38;5;167;01mException\u001b[39;00m \u001b[38;5;28;01mas\u001b[39;00m e:\n\u001b[1;32m    247\u001b[0m         \u001b[38;5;28;01mif\u001b[39;00m \u001b[38;5;129;01mnot\u001b[39;00m return_exceptions:\n",
      "File \u001b[0;32m/usr/local/lib/python3.10/asyncio/tasks.py:408\u001b[0m, in \u001b[0;36mwait_for\u001b[0;34m()\u001b[0m\n\u001b[1;32m    405\u001b[0m loop \u001b[38;5;241m=\u001b[39m events\u001b[38;5;241m.\u001b[39mget_running_loop()\n\u001b[1;32m    407\u001b[0m \u001b[38;5;28;01mif\u001b[39;00m timeout \u001b[38;5;129;01mis\u001b[39;00m \u001b[38;5;28;01mNone\u001b[39;00m:\n\u001b[0;32m--> 408\u001b[0m     \u001b[38;5;28;01mreturn\u001b[39;00m \u001b[38;5;28;01mawait\u001b[39;00m fut\n\u001b[1;32m    410\u001b[0m \u001b[38;5;28;01mif\u001b[39;00m timeout \u001b[38;5;241m<\u001b[39m\u001b[38;5;241m=\u001b[39m \u001b[38;5;241m0\u001b[39m:\n\u001b[1;32m    411\u001b[0m     fut \u001b[38;5;241m=\u001b[39m ensure_future(fut, loop\u001b[38;5;241m=\u001b[39mloop)\n",
      "File \u001b[0;32m/usr/local/lib/python3.10/site-packages/fsspec_xrootd/xrootd.py:601\u001b[0m, in \u001b[0;36m_cat_vector_read\u001b[0;34m()\u001b[0m\n\u001b[1;32m    599\u001b[0m \u001b[38;5;28;01mfor\u001b[39;00m status, buffers \u001b[38;5;129;01min\u001b[39;00m results:\n\u001b[1;32m    600\u001b[0m     \u001b[38;5;28;01mif\u001b[39;00m \u001b[38;5;129;01mnot\u001b[39;00m status\u001b[38;5;241m.\u001b[39mok:\n\u001b[0;32m--> 601\u001b[0m         \u001b[38;5;28;01mraise\u001b[39;00m \u001b[38;5;167;01mOSError\u001b[39;00m(\u001b[38;5;124mf\u001b[39m\u001b[38;5;124m\"\u001b[39m\u001b[38;5;124mFile did not vector_read properly: \u001b[39m\u001b[38;5;132;01m{\u001b[39;00mstatus\u001b[38;5;241m.\u001b[39mmessage\u001b[38;5;132;01m}\u001b[39;00m\u001b[38;5;124m\"\u001b[39m)\n\u001b[1;32m    602\u001b[0m     result_bufs\u001b[38;5;241m.\u001b[39mappend(buffers)\n\u001b[1;32m    603\u001b[0m deets \u001b[38;5;241m=\u001b[39m _vectors_to_chunks(chunks, result_bufs)\n",
      "\u001b[0;31mOSError\u001b[0m: File did not vector_read properly: [ERROR] Server responded with an error: [3005] Unable to readv /store/mc/Run3Summer22EENanoAODv12/DYto2L-4Jets_MLL-50_TuneCP5_13p6TeV_madgraphMLM-pythia8/NANOAODSIM/130X_mcRun3_2022_realistic_postEE_v6_ext1-v2/2520000/0b377ebc-89c0-487f-995a-a344255c11e3.root; too many levels of symbolic links\n"
     ]
    }
   ],
   "source": [
    "outs = []\n",
    "for dataset in datasets:\n",
    "    dataset_runnable, dataset_updated = preprocess(\n",
    "        dataset,\n",
    "        align_clusters=False,\n",
    "        step_size=100_000,\n",
    "        files_per_batch=1,\n",
    "        skip_bad_files=True,\n",
    "        save_form=False,\n",
    "    )\n",
    "    to_compute = apply_to_fileset(\n",
    "        Processor(True),\n",
    "        max_chunks(dataset_runnable, 10),\n",
    "        schemaclass=BaseSchema,\n",
    "    )\n",
    "    (out,) = dask.compute(to_compute)\n",
    "    outs.append(out)"
   ]
  },
  {
   "cell_type": "code",
   "execution_count": null,
   "id": "38c958d2-4065-4b51-bff4-8350c3f8c710",
   "metadata": {},
   "outputs": [],
   "source": []
  }
 ],
 "metadata": {
  "kernelspec": {
   "display_name": "Python 3 (ipykernel)",
   "language": "python",
   "name": "python3"
  },
  "language_info": {
   "codemirror_mode": {
    "name": "ipython",
    "version": 3
   },
   "file_extension": ".py",
   "mimetype": "text/x-python",
   "name": "python",
   "nbconvert_exporter": "python",
   "pygments_lexer": "ipython3",
   "version": "3.10.13"
  }
 },
 "nbformat": 4,
 "nbformat_minor": 5
}
